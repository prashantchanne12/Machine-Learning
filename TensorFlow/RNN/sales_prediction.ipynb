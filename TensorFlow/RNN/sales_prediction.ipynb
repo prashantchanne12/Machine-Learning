{
  "nbformat": 4,
  "nbformat_minor": 0,
  "metadata": {
    "colab": {
      "name": "sales-prediction.ipynb",
      "provenance": [],
      "collapsed_sections": []
    },
    "kernelspec": {
      "name": "python3",
      "display_name": "Python 3"
    }
  },
  "cells": [
    {
      "cell_type": "markdown",
      "metadata": {
        "id": "J2rcH-HJ6YF3",
        "colab_type": "text"
      },
      "source": [
        "# Sales Predictions"
      ]
    },
    {
      "cell_type": "markdown",
      "metadata": {
        "id": "KJULT8Pwpzdv",
        "colab_type": "text"
      },
      "source": [
        "## Preparing Tools and Loading Data"
      ]
    },
    {
      "cell_type": "code",
      "metadata": {
        "id": "5B4Mo8gZoLyU",
        "colab_type": "code",
        "colab": {}
      },
      "source": [
        "import pandas as pd\n",
        "import numpy as np\n",
        "import matplotlib.pyplot as plt"
      ],
      "execution_count": 0,
      "outputs": []
    },
    {
      "cell_type": "code",
      "metadata": {
        "id": "Vd8kBILkpV5h",
        "colab_type": "code",
        "colab": {}
      },
      "source": [
        "df = pd.read_csv('/content/drive/My Drive/tensorflow/Data/TF_2_Notebooks_and_Data/DATA/RSCCASN.csv',\n",
        "                 parse_dates=True,\n",
        "                 index_col='DATE')"
      ],
      "execution_count": 0,
      "outputs": []
    },
    {
      "cell_type": "code",
      "metadata": {
        "id": "wGIYlFTiqYNR",
        "colab_type": "code",
        "colab": {
          "base_uri": "https://localhost:8080/",
          "height": 151
        },
        "outputId": "d1cebbc8-0deb-4ceb-9589-78a43835d024"
      },
      "source": [
        "df.info()"
      ],
      "execution_count": 10,
      "outputs": [
        {
          "output_type": "stream",
          "text": [
            "<class 'pandas.core.frame.DataFrame'>\n",
            "DatetimeIndex: 334 entries, 1992-01-01 to 2019-10-01\n",
            "Data columns (total 1 columns):\n",
            " #   Column  Non-Null Count  Dtype\n",
            "---  ------  --------------  -----\n",
            " 0   sales   334 non-null    int64\n",
            "dtypes: int64(1)\n",
            "memory usage: 5.2 KB\n"
          ],
          "name": "stdout"
        }
      ]
    },
    {
      "cell_type": "code",
      "metadata": {
        "id": "UZhwACs9p5eg",
        "colab_type": "code",
        "colab": {
          "base_uri": "https://localhost:8080/",
          "height": 225
        },
        "outputId": "206edcbc-6bed-422c-d248-9905068fd0b1"
      },
      "source": [
        "df.head()"
      ],
      "execution_count": 9,
      "outputs": [
        {
          "output_type": "execute_result",
          "data": {
            "text/html": [
              "<div>\n",
              "<style scoped>\n",
              "    .dataframe tbody tr th:only-of-type {\n",
              "        vertical-align: middle;\n",
              "    }\n",
              "\n",
              "    .dataframe tbody tr th {\n",
              "        vertical-align: top;\n",
              "    }\n",
              "\n",
              "    .dataframe thead th {\n",
              "        text-align: right;\n",
              "    }\n",
              "</style>\n",
              "<table border=\"1\" class=\"dataframe\">\n",
              "  <thead>\n",
              "    <tr style=\"text-align: right;\">\n",
              "      <th></th>\n",
              "      <th>sales</th>\n",
              "    </tr>\n",
              "    <tr>\n",
              "      <th>DATE</th>\n",
              "      <th></th>\n",
              "    </tr>\n",
              "  </thead>\n",
              "  <tbody>\n",
              "    <tr>\n",
              "      <th>1992-01-01</th>\n",
              "      <td>6938</td>\n",
              "    </tr>\n",
              "    <tr>\n",
              "      <th>1992-02-01</th>\n",
              "      <td>7524</td>\n",
              "    </tr>\n",
              "    <tr>\n",
              "      <th>1992-03-01</th>\n",
              "      <td>8475</td>\n",
              "    </tr>\n",
              "    <tr>\n",
              "      <th>1992-04-01</th>\n",
              "      <td>9401</td>\n",
              "    </tr>\n",
              "    <tr>\n",
              "      <th>1992-05-01</th>\n",
              "      <td>9558</td>\n",
              "    </tr>\n",
              "  </tbody>\n",
              "</table>\n",
              "</div>"
            ],
            "text/plain": [
              "            sales\n",
              "DATE             \n",
              "1992-01-01   6938\n",
              "1992-02-01   7524\n",
              "1992-03-01   8475\n",
              "1992-04-01   9401\n",
              "1992-05-01   9558"
            ]
          },
          "metadata": {
            "tags": []
          },
          "execution_count": 9
        }
      ]
    },
    {
      "cell_type": "code",
      "metadata": {
        "id": "Sizqn014p7Sh",
        "colab_type": "code",
        "colab": {}
      },
      "source": [
        "df.columns = ['sales']"
      ],
      "execution_count": 0,
      "outputs": []
    },
    {
      "cell_type": "code",
      "metadata": {
        "id": "dzmKkPiNqO33",
        "colab_type": "code",
        "colab": {
          "base_uri": "https://localhost:8080/",
          "height": 225
        },
        "outputId": "ab470f3d-cade-4513-8b20-e16d62b6a4de"
      },
      "source": [
        "df.head()"
      ],
      "execution_count": 8,
      "outputs": [
        {
          "output_type": "execute_result",
          "data": {
            "text/html": [
              "<div>\n",
              "<style scoped>\n",
              "    .dataframe tbody tr th:only-of-type {\n",
              "        vertical-align: middle;\n",
              "    }\n",
              "\n",
              "    .dataframe tbody tr th {\n",
              "        vertical-align: top;\n",
              "    }\n",
              "\n",
              "    .dataframe thead th {\n",
              "        text-align: right;\n",
              "    }\n",
              "</style>\n",
              "<table border=\"1\" class=\"dataframe\">\n",
              "  <thead>\n",
              "    <tr style=\"text-align: right;\">\n",
              "      <th></th>\n",
              "      <th>sales</th>\n",
              "    </tr>\n",
              "    <tr>\n",
              "      <th>DATE</th>\n",
              "      <th></th>\n",
              "    </tr>\n",
              "  </thead>\n",
              "  <tbody>\n",
              "    <tr>\n",
              "      <th>1992-01-01</th>\n",
              "      <td>6938</td>\n",
              "    </tr>\n",
              "    <tr>\n",
              "      <th>1992-02-01</th>\n",
              "      <td>7524</td>\n",
              "    </tr>\n",
              "    <tr>\n",
              "      <th>1992-03-01</th>\n",
              "      <td>8475</td>\n",
              "    </tr>\n",
              "    <tr>\n",
              "      <th>1992-04-01</th>\n",
              "      <td>9401</td>\n",
              "    </tr>\n",
              "    <tr>\n",
              "      <th>1992-05-01</th>\n",
              "      <td>9558</td>\n",
              "    </tr>\n",
              "  </tbody>\n",
              "</table>\n",
              "</div>"
            ],
            "text/plain": [
              "            sales\n",
              "DATE             \n",
              "1992-01-01   6938\n",
              "1992-02-01   7524\n",
              "1992-03-01   8475\n",
              "1992-04-01   9401\n",
              "1992-05-01   9558"
            ]
          },
          "metadata": {
            "tags": []
          },
          "execution_count": 8
        }
      ]
    },
    {
      "cell_type": "code",
      "metadata": {
        "id": "_0sD6-5lqUfm",
        "colab_type": "code",
        "colab": {
          "base_uri": "https://localhost:8080/",
          "height": 497
        },
        "outputId": "22b13f1f-f200-4b14-bd58-44cd51159b74"
      },
      "source": [
        "df.plot(figsize=(12,8));"
      ],
      "execution_count": 15,
      "outputs": [
        {
          "output_type": "display_data",
          "data": {
            "image/png": "[encoded data removed]",
            "text/plain": [
              "<Figure size 864x576 with 1 Axes>"
            ]
          },
          "metadata": {
            "tags": [],
            "needs_background": "light"
          }
        }
      ]
    },
    {
      "cell_type": "markdown",
      "metadata": {
        "id": "H09gRnTer0Nu",
        "colab_type": "text"
      },
      "source": [
        "## Splitting Data into Train and Test sets"
      ]
    },
    {
      "cell_type": "code",
      "metadata": {
        "id": "cLNBwVp0qeC4",
        "colab_type": "code",
        "colab": {
          "base_uri": "https://localhost:8080/",
          "height": 34
        },
        "outputId": "315ba695-291a-4b30-fff7-a9b437b6c938"
      },
      "source": [
        "len(df)"
      ],
      "execution_count": 16,
      "outputs": [
        {
          "output_type": "execute_result",
          "data": {
            "text/plain": [
              "334"
            ]
          },
          "metadata": {
            "tags": []
          },
          "execution_count": 16
        }
      ]
    },
    {
      "cell_type": "code",
      "metadata": {
        "id": "wYMKy4UGq5jL",
        "colab_type": "code",
        "colab": {
          "base_uri": "https://localhost:8080/",
          "height": 34
        },
        "outputId": "537d6fa5-9f2a-4961-c9c5-13824864f5fd"
      },
      "source": [
        "# 12 rows = 1 year /12 months\n",
        "# 18 rows = 1.5 years\n",
        "len(df) - 18"
      ],
      "execution_count": 17,
      "outputs": [
        {
          "output_type": "execute_result",
          "data": {
            "text/plain": [
              "316"
            ]
          },
          "metadata": {
            "tags": []
          },
          "execution_count": 17
        }
      ]
    },
    {
      "cell_type": "code",
      "metadata": {
        "id": "fGx_y4qDrWdA",
        "colab_type": "code",
        "colab": {}
      },
      "source": [
        "test_size = 18\n",
        "test_index = len(df) - test_size"
      ],
      "execution_count": 0,
      "outputs": []
    },
    {
      "cell_type": "code",
      "metadata": {
        "id": "U_Ap0jWHrhBa",
        "colab_type": "code",
        "colab": {
          "base_uri": "https://localhost:8080/",
          "height": 34
        },
        "outputId": "7ef14be7-c8c4-43e9-c724-710b10bce721"
      },
      "source": [
        "test_index"
      ],
      "execution_count": 19,
      "outputs": [
        {
          "output_type": "execute_result",
          "data": {
            "text/plain": [
              "316"
            ]
          },
          "metadata": {
            "tags": []
          },
          "execution_count": 19
        }
      ]
    },
    {
      "cell_type": "code",
      "metadata": {
        "id": "7hZSYA89ri6W",
        "colab_type": "code",
        "colab": {}
      },
      "source": [
        "train = df.iloc[:test_index]\n",
        "test = df.iloc[test_index:]"
      ],
      "execution_count": 0,
      "outputs": []
    },
    {
      "cell_type": "code",
      "metadata": {
        "id": "MC0AiKfMrrcI",
        "colab_type": "code",
        "colab": {
          "base_uri": "https://localhost:8080/",
          "height": 431
        },
        "outputId": "6c081034-93fb-434a-a8c2-1b7369dbd22b"
      },
      "source": [
        "train"
      ],
      "execution_count": 21,
      "outputs": [
        {
          "output_type": "execute_result",
          "data": {
            "text/html": [
              "<div>\n",
              "<style scoped>\n",
              "    .dataframe tbody tr th:only-of-type {\n",
              "        vertical-align: middle;\n",
              "    }\n",
              "\n",
              "    .dataframe tbody tr th {\n",
              "        vertical-align: top;\n",
              "    }\n",
              "\n",
              "    .dataframe thead th {\n",
              "        text-align: right;\n",
              "    }\n",
              "</style>\n",
              "<table border=\"1\" class=\"dataframe\">\n",
              "  <thead>\n",
              "    <tr style=\"text-align: right;\">\n",
              "      <th></th>\n",
              "      <th>sales</th>\n",
              "    </tr>\n",
              "    <tr>\n",
              "      <th>DATE</th>\n",
              "      <th></th>\n",
              "    </tr>\n",
              "  </thead>\n",
              "  <tbody>\n",
              "    <tr>\n",
              "      <th>1992-01-01</th>\n",
              "      <td>6938</td>\n",
              "    </tr>\n",
              "    <tr>\n",
              "      <th>1992-02-01</th>\n",
              "      <td>7524</td>\n",
              "    </tr>\n",
              "    <tr>\n",
              "      <th>1992-03-01</th>\n",
              "      <td>8475</td>\n",
              "    </tr>\n",
              "    <tr>\n",
              "      <th>1992-04-01</th>\n",
              "      <td>9401</td>\n",
              "    </tr>\n",
              "    <tr>\n",
              "      <th>1992-05-01</th>\n",
              "      <td>9558</td>\n",
              "    </tr>\n",
              "    <tr>\n",
              "      <th>...</th>\n",
              "      <td>...</td>\n",
              "    </tr>\n",
              "    <tr>\n",
              "      <th>2017-12-01</th>\n",
              "      <td>33720</td>\n",
              "    </tr>\n",
              "    <tr>\n",
              "      <th>2018-01-01</th>\n",
              "      <td>15881</td>\n",
              "    </tr>\n",
              "    <tr>\n",
              "      <th>2018-02-01</th>\n",
              "      <td>18585</td>\n",
              "    </tr>\n",
              "    <tr>\n",
              "      <th>2018-03-01</th>\n",
              "      <td>22404</td>\n",
              "    </tr>\n",
              "    <tr>\n",
              "      <th>2018-04-01</th>\n",
              "      <td>20616</td>\n",
              "    </tr>\n",
              "  </tbody>\n",
              "</table>\n",
              "<p>316 rows × 1 columns</p>\n",
              "</div>"
            ],
            "text/plain": [
              "            sales\n",
              "DATE             \n",
              "1992-01-01   6938\n",
              "1992-02-01   7524\n",
              "1992-03-01   8475\n",
              "1992-04-01   9401\n",
              "1992-05-01   9558\n",
              "...           ...\n",
              "2017-12-01  33720\n",
              "2018-01-01  15881\n",
              "2018-02-01  18585\n",
              "2018-03-01  22404\n",
              "2018-04-01  20616\n",
              "\n",
              "[316 rows x 1 columns]"
            ]
          },
          "metadata": {
            "tags": []
          },
          "execution_count": 21
        }
      ]
    },
    {
      "cell_type": "code",
      "metadata": {
        "id": "F1I4NIO4rscd",
        "colab_type": "code",
        "colab": {
          "base_uri": "https://localhost:8080/",
          "height": 610
        },
        "outputId": "3a644c25-2286-4534-c3bd-278a6695df02"
      },
      "source": [
        "test"
      ],
      "execution_count": 22,
      "outputs": [
        {
          "output_type": "execute_result",
          "data": {
            "text/html": [
              "<div>\n",
              "<style scoped>\n",
              "    .dataframe tbody tr th:only-of-type {\n",
              "        vertical-align: middle;\n",
              "    }\n",
              "\n",
              "    .dataframe tbody tr th {\n",
              "        vertical-align: top;\n",
              "    }\n",
              "\n",
              "    .dataframe thead th {\n",
              "        text-align: right;\n",
              "    }\n",
              "</style>\n",
              "<table border=\"1\" class=\"dataframe\">\n",
              "  <thead>\n",
              "    <tr style=\"text-align: right;\">\n",
              "      <th></th>\n",
              "      <th>sales</th>\n",
              "    </tr>\n",
              "    <tr>\n",
              "      <th>DATE</th>\n",
              "      <th></th>\n",
              "    </tr>\n",
              "  </thead>\n",
              "  <tbody>\n",
              "    <tr>\n",
              "      <th>2018-05-01</th>\n",
              "      <td>23764</td>\n",
              "    </tr>\n",
              "    <tr>\n",
              "      <th>2018-06-01</th>\n",
              "      <td>21589</td>\n",
              "    </tr>\n",
              "    <tr>\n",
              "      <th>2018-07-01</th>\n",
              "      <td>21919</td>\n",
              "    </tr>\n",
              "    <tr>\n",
              "      <th>2018-08-01</th>\n",
              "      <td>23381</td>\n",
              "    </tr>\n",
              "    <tr>\n",
              "      <th>2018-09-01</th>\n",
              "      <td>20260</td>\n",
              "    </tr>\n",
              "    <tr>\n",
              "      <th>2018-10-01</th>\n",
              "      <td>21473</td>\n",
              "    </tr>\n",
              "    <tr>\n",
              "      <th>2018-11-01</th>\n",
              "      <td>25831</td>\n",
              "    </tr>\n",
              "    <tr>\n",
              "      <th>2018-12-01</th>\n",
              "      <td>34706</td>\n",
              "    </tr>\n",
              "    <tr>\n",
              "      <th>2019-01-01</th>\n",
              "      <td>16410</td>\n",
              "    </tr>\n",
              "    <tr>\n",
              "      <th>2019-02-01</th>\n",
              "      <td>18134</td>\n",
              "    </tr>\n",
              "    <tr>\n",
              "      <th>2019-03-01</th>\n",
              "      <td>22093</td>\n",
              "    </tr>\n",
              "    <tr>\n",
              "      <th>2019-04-01</th>\n",
              "      <td>21597</td>\n",
              "    </tr>\n",
              "    <tr>\n",
              "      <th>2019-05-01</th>\n",
              "      <td>23200</td>\n",
              "    </tr>\n",
              "    <tr>\n",
              "      <th>2019-06-01</th>\n",
              "      <td>21123</td>\n",
              "    </tr>\n",
              "    <tr>\n",
              "      <th>2019-07-01</th>\n",
              "      <td>21714</td>\n",
              "    </tr>\n",
              "    <tr>\n",
              "      <th>2019-08-01</th>\n",
              "      <td>23791</td>\n",
              "    </tr>\n",
              "    <tr>\n",
              "      <th>2019-09-01</th>\n",
              "      <td>19695</td>\n",
              "    </tr>\n",
              "    <tr>\n",
              "      <th>2019-10-01</th>\n",
              "      <td>21113</td>\n",
              "    </tr>\n",
              "  </tbody>\n",
              "</table>\n",
              "</div>"
            ],
            "text/plain": [
              "            sales\n",
              "DATE             \n",
              "2018-05-01  23764\n",
              "2018-06-01  21589\n",
              "2018-07-01  21919\n",
              "2018-08-01  23381\n",
              "2018-09-01  20260\n",
              "2018-10-01  21473\n",
              "2018-11-01  25831\n",
              "2018-12-01  34706\n",
              "2019-01-01  16410\n",
              "2019-02-01  18134\n",
              "2019-03-01  22093\n",
              "2019-04-01  21597\n",
              "2019-05-01  23200\n",
              "2019-06-01  21123\n",
              "2019-07-01  21714\n",
              "2019-08-01  23791\n",
              "2019-09-01  19695\n",
              "2019-10-01  21113"
            ]
          },
          "metadata": {
            "tags": []
          },
          "execution_count": 22
        }
      ]
    },
    {
      "cell_type": "code",
      "metadata": {
        "id": "VFjceZLPruqr",
        "colab_type": "code",
        "colab": {
          "base_uri": "https://localhost:8080/",
          "height": 34
        },
        "outputId": "731b1630-995c-4977-d1dc-81d4b86fb7ad"
      },
      "source": [
        "len(train), len(test)"
      ],
      "execution_count": 23,
      "outputs": [
        {
          "output_type": "execute_result",
          "data": {
            "text/plain": [
              "(316, 18)"
            ]
          },
          "metadata": {
            "tags": []
          },
          "execution_count": 23
        }
      ]
    },
    {
      "cell_type": "markdown",
      "metadata": {
        "id": "f4pkuRg9r9GL",
        "colab_type": "text"
      },
      "source": [
        "## Normalizing"
      ]
    },
    {
      "cell_type": "code",
      "metadata": {
        "id": "XpXI3oxbrycD",
        "colab_type": "code",
        "colab": {}
      },
      "source": [
        "from sklearn.preprocessing import MinMaxScaler\n",
        "\n",
        "scaler = MinMaxScaler()\n",
        "\n",
        "scaled_train = scaler.fit_transform(train)\n",
        "scaled_test = scaler.transform(test)"
      ],
      "execution_count": 0,
      "outputs": []
    },
    {
      "cell_type": "markdown",
      "metadata": {
        "id": "FlMxxObss9ko",
        "colab_type": "text"
      },
      "source": [
        "## Creating TimeSeriesGeneartor"
      ]
    },
    {
      "cell_type": "code",
      "metadata": {
        "id": "28gDNdCBtEts",
        "colab_type": "code",
        "colab": {}
      },
      "source": [
        "from tensorflow.keras.preprocessing.sequence import TimeseriesGenerator\n",
        "\n",
        "length = 12\n",
        "batch_size = 1\n",
        "\n",
        "generator = TimeseriesGenerator(scaled_train,\n",
        "                                scaled_train,\n",
        "                                length=length,\n",
        "                                batch_size=batch_size)"
      ],
      "execution_count": 0,
      "outputs": []
    },
    {
      "cell_type": "code",
      "metadata": {
        "id": "Skw6nyJotsRI",
        "colab_type": "code",
        "colab": {}
      },
      "source": [
        "X, y = generator[0]"
      ],
      "execution_count": 0,
      "outputs": []
    },
    {
      "cell_type": "code",
      "metadata": {
        "id": "SDymuWsot7ip",
        "colab_type": "code",
        "colab": {
          "base_uri": "https://localhost:8080/",
          "height": 34
        },
        "outputId": "91dbc823-36aa-48bb-cb12-f82f53a3e5ff"
      },
      "source": [
        "len(X[0])"
      ],
      "execution_count": 37,
      "outputs": [
        {
          "output_type": "execute_result",
          "data": {
            "text/plain": [
              "12"
            ]
          },
          "metadata": {
            "tags": []
          },
          "execution_count": 37
        }
      ]
    },
    {
      "cell_type": "code",
      "metadata": {
        "id": "lJ3lwjh_tvOX",
        "colab_type": "code",
        "colab": {
          "base_uri": "https://localhost:8080/",
          "height": 218
        },
        "outputId": "14090681-77e7-4c92-a41c-d9dafa52750a"
      },
      "source": [
        "X"
      ],
      "execution_count": 38,
      "outputs": [
        {
          "output_type": "execute_result",
          "data": {
            "text/plain": [
              "array([[[0.        ],\n",
              "        [0.02127505],\n",
              "        [0.05580163],\n",
              "        [0.08942056],\n",
              "        [0.09512053],\n",
              "        [0.08146965],\n",
              "        [0.07860151],\n",
              "        [0.12979233],\n",
              "        [0.09566512],\n",
              "        [0.1203892 ],\n",
              "        [0.15426227],\n",
              "        [0.41595266]]])"
            ]
          },
          "metadata": {
            "tags": []
          },
          "execution_count": 38
        }
      ]
    },
    {
      "cell_type": "code",
      "metadata": {
        "id": "Arzu5WRWtwLq",
        "colab_type": "code",
        "colab": {
          "base_uri": "https://localhost:8080/",
          "height": 34
        },
        "outputId": "e948ac7a-6a93-4b40-fc2f-3b26fc758ee2"
      },
      "source": [
        "y"
      ],
      "execution_count": 39,
      "outputs": [
        {
          "output_type": "execute_result",
          "data": {
            "text/plain": [
              "array([[0.02047633]])"
            ]
          },
          "metadata": {
            "tags": []
          },
          "execution_count": 39
        }
      ]
    },
    {
      "cell_type": "markdown",
      "metadata": {
        "id": "sJcs5lUstyZT",
        "colab_type": "text"
      },
      "source": [
        "## Modelling"
      ]
    },
    {
      "cell_type": "code",
      "metadata": {
        "id": "NKvATnS2ul1E",
        "colab_type": "code",
        "colab": {}
      },
      "source": [
        "from tensorflow.keras.models import Sequential\n",
        "from tensorflow.keras.layers import Dense, LSTM\n",
        "\n",
        "n_features = 1 # we've only one feature i.e. previous sales data\n",
        "\n",
        "model = Sequential()\n",
        "\n",
        "model.add(LSTM(100, \n",
        "               activation='relu',\n",
        "               input_shape=(length, n_features)))\n",
        "\n",
        "model.add(Dense(1))\n",
        "\n",
        "model.compile(optimizer='adam',\n",
        "              loss='mse')"
      ],
      "execution_count": 0,
      "outputs": []
    },
    {
      "cell_type": "code",
      "metadata": {
        "id": "n_WmpyG6v4f8",
        "colab_type": "code",
        "colab": {
          "base_uri": "https://localhost:8080/",
          "height": 218
        },
        "outputId": "6987bbdd-d306-4a62-e857-a8739f99152e"
      },
      "source": [
        "model.summary()"
      ],
      "execution_count": 60,
      "outputs": [
        {
          "output_type": "stream",
          "text": [
            "Model: \"sequential_1\"\n",
            "_________________________________________________________________\n",
            "Layer (type)                 Output Shape              Param #   \n",
            "=================================================================\n",
            "lstm_1 (LSTM)                (None, 100)               40800     \n",
            "_________________________________________________________________\n",
            "dense_1 (Dense)              (None, 1)                 101       \n",
            "=================================================================\n",
            "Total params: 40,901\n",
            "Trainable params: 40,901\n",
            "Non-trainable params: 0\n",
            "_________________________________________________________________\n"
          ],
          "name": "stdout"
        }
      ]
    },
    {
      "cell_type": "markdown",
      "metadata": {
        "id": "lIww0a6LwEVV",
        "colab_type": "text"
      },
      "source": [
        "**Early Stopping Callback**"
      ]
    },
    {
      "cell_type": "code",
      "metadata": {
        "id": "W0HXlmcWwAPq",
        "colab_type": "code",
        "colab": {}
      },
      "source": [
        "from tensorflow.keras.callbacks import EarlyStopping\n",
        "\n",
        "early_stop = EarlyStopping(monitor='val_loss',\n",
        "                           patience=2)"
      ],
      "execution_count": 0,
      "outputs": []
    },
    {
      "cell_type": "code",
      "metadata": {
        "id": "Z9DUm4ykwo92",
        "colab_type": "code",
        "colab": {}
      },
      "source": [
        "validation_generator = TimeseriesGenerator(scaled_test,\n",
        "                                           scaled_test,\n",
        "                                           length=length,\n",
        "                                           batch_size=batch_size)"
      ],
      "execution_count": 0,
      "outputs": []
    },
    {
      "cell_type": "code",
      "metadata": {
        "id": "HcaJq05bxAe1",
        "colab_type": "code",
        "colab": {
          "base_uri": "https://localhost:8080/",
          "height": 302
        },
        "outputId": "372c6ba7-b9a4-4258-e0f5-f7f0bb3e9f75"
      },
      "source": [
        "model.fit_generator(generator,\n",
        "                    epochs=20,\n",
        "                    validation_data=validation_generator,\n",
        "                    callbacks=[early_stop])"
      ],
      "execution_count": 62,
      "outputs": [
        {
          "output_type": "stream",
          "text": [
            "Epoch 1/20\n",
            "304/304 [==============================] - 2s 6ms/step - loss: 0.0252 - val_loss: 0.0403\n",
            "Epoch 2/20\n",
            "304/304 [==============================] - 2s 5ms/step - loss: 0.0169 - val_loss: 0.0500\n",
            "Epoch 3/20\n",
            "304/304 [==============================] - 2s 5ms/step - loss: 0.0122 - val_loss: 0.0047\n",
            "Epoch 4/20\n",
            "304/304 [==============================] - 2s 5ms/step - loss: 0.0072 - val_loss: 0.0180\n",
            "Epoch 5/20\n",
            "304/304 [==============================] - 2s 5ms/step - loss: 0.0030 - val_loss: 0.0036\n",
            "Epoch 6/20\n",
            "304/304 [==============================] - 2s 5ms/step - loss: 0.0020 - val_loss: 4.6741e-04\n",
            "Epoch 7/20\n",
            "304/304 [==============================] - 2s 5ms/step - loss: 0.0013 - val_loss: 0.0074\n",
            "Epoch 8/20\n",
            "304/304 [==============================] - 2s 5ms/step - loss: 0.0019 - val_loss: 0.0035\n"
          ],
          "name": "stdout"
        },
        {
          "output_type": "execute_result",
          "data": {
            "text/plain": [
              "<tensorflow.python.keras.callbacks.History at 0x7fe75b8a9748>"
            ]
          },
          "metadata": {
            "tags": []
          },
          "execution_count": 62
        }
      ]
    },
    {
      "cell_type": "code",
      "metadata": {
        "id": "_49uDXklxeX9",
        "colab_type": "code",
        "colab": {
          "base_uri": "https://localhost:8080/",
          "height": 284
        },
        "outputId": "326f37d8-8da5-44f0-dfdd-e428997b1672"
      },
      "source": [
        "losses = pd.DataFrame(model.history.history)\n",
        "losses"
      ],
      "execution_count": 63,
      "outputs": [
        {
          "output_type": "execute_result",
          "data": {
            "text/html": [
              "<div>\n",
              "<style scoped>\n",
              "    .dataframe tbody tr th:only-of-type {\n",
              "        vertical-align: middle;\n",
              "    }\n",
              "\n",
              "    .dataframe tbody tr th {\n",
              "        vertical-align: top;\n",
              "    }\n",
              "\n",
              "    .dataframe thead th {\n",
              "        text-align: right;\n",
              "    }\n",
              "</style>\n",
              "<table border=\"1\" class=\"dataframe\">\n",
              "  <thead>\n",
              "    <tr style=\"text-align: right;\">\n",
              "      <th></th>\n",
              "      <th>loss</th>\n",
              "      <th>val_loss</th>\n",
              "    </tr>\n",
              "  </thead>\n",
              "  <tbody>\n",
              "    <tr>\n",
              "      <th>0</th>\n",
              "      <td>0.025250</td>\n",
              "      <td>0.040278</td>\n",
              "    </tr>\n",
              "    <tr>\n",
              "      <th>1</th>\n",
              "      <td>0.016871</td>\n",
              "      <td>0.049988</td>\n",
              "    </tr>\n",
              "    <tr>\n",
              "      <th>2</th>\n",
              "      <td>0.012230</td>\n",
              "      <td>0.004667</td>\n",
              "    </tr>\n",
              "    <tr>\n",
              "      <th>3</th>\n",
              "      <td>0.007237</td>\n",
              "      <td>0.017967</td>\n",
              "    </tr>\n",
              "    <tr>\n",
              "      <th>4</th>\n",
              "      <td>0.003040</td>\n",
              "      <td>0.003553</td>\n",
              "    </tr>\n",
              "    <tr>\n",
              "      <th>5</th>\n",
              "      <td>0.002035</td>\n",
              "      <td>0.000467</td>\n",
              "    </tr>\n",
              "    <tr>\n",
              "      <th>6</th>\n",
              "      <td>0.001307</td>\n",
              "      <td>0.007380</td>\n",
              "    </tr>\n",
              "    <tr>\n",
              "      <th>7</th>\n",
              "      <td>0.001903</td>\n",
              "      <td>0.003510</td>\n",
              "    </tr>\n",
              "  </tbody>\n",
              "</table>\n",
              "</div>"
            ],
            "text/plain": [
              "       loss  val_loss\n",
              "0  0.025250  0.040278\n",
              "1  0.016871  0.049988\n",
              "2  0.012230  0.004667\n",
              "3  0.007237  0.017967\n",
              "4  0.003040  0.003553\n",
              "5  0.002035  0.000467\n",
              "6  0.001307  0.007380\n",
              "7  0.001903  0.003510"
            ]
          },
          "metadata": {
            "tags": []
          },
          "execution_count": 63
        }
      ]
    },
    {
      "cell_type": "code",
      "metadata": {
        "id": "RSPxGtKdxodD",
        "colab_type": "code",
        "colab": {
          "base_uri": "https://localhost:8080/",
          "height": 282
        },
        "outputId": "bd555a0f-e26d-4a2d-9c71-151cdfa4bfa9"
      },
      "source": [
        "losses.plot()"
      ],
      "execution_count": 64,
      "outputs": [
        {
          "output_type": "execute_result",
          "data": {
            "text/plain": [
              "<matplotlib.axes._subplots.AxesSubplot at 0x7fe759c34eb8>"
            ]
          },
          "metadata": {
            "tags": []
          },
          "execution_count": 64
        },
        {
          "output_type": "display_data",
          "data": {
            "image/png": "[encoded data removed]",
            "text/plain": [
              "<Figure size 432x288 with 1 Axes>"
            ]
          },
          "metadata": {
            "tags": [],
            "needs_background": "light"
          }
        }
      ]
    },
    {
      "cell_type": "markdown",
      "metadata": {
        "id": "NqAZJ-sVxuty",
        "colab_type": "text"
      },
      "source": [
        "## Evaluating"
      ]
    },
    {
      "cell_type": "code",
      "metadata": {
        "id": "zWZ2k5KGx8da",
        "colab_type": "code",
        "colab": {}
      },
      "source": [
        "test_predictions = []\n",
        "\n",
        "# grabbing last 12 months from training set to predict 1 month in future\n",
        "first_eval_batch = scaled_train[-length:]\n",
        "\n",
        "# reshaping into correct format that is required by the RNN\n",
        "current_batch = first_eval_batch.reshape((1, length, n_features))\n",
        "\n",
        "for i in range(len(test)):\n",
        "  current_pred = model.predict(current_batch)[0]\n",
        "\n",
        "  test_predictions.append(current_pred)\n",
        "\n",
        "  current_batch = np.append(current_batch[:,1:,:], [[current_pred]], axis=1)"
      ],
      "execution_count": 0,
      "outputs": []
    },
    {
      "cell_type": "code",
      "metadata": {
        "id": "3ZGcOOkzy-jw",
        "colab_type": "code",
        "colab": {}
      },
      "source": [
        "true_preds = scaler.inverse_transform(test_predictions)"
      ],
      "execution_count": 0,
      "outputs": []
    },
    {
      "cell_type": "code",
      "metadata": {
        "id": "7DQv_PZlzF9a",
        "colab_type": "code",
        "colab": {
          "base_uri": "https://localhost:8080/",
          "height": 34
        },
        "outputId": "843e4967-e3c7-41c5-a456-4d1d581f0f5b"
      },
      "source": [
        "len(true_preds)"
      ],
      "execution_count": 67,
      "outputs": [
        {
          "output_type": "execute_result",
          "data": {
            "text/plain": [
              "18"
            ]
          },
          "metadata": {
            "tags": []
          },
          "execution_count": 67
        }
      ]
    },
    {
      "cell_type": "code",
      "metadata": {
        "id": "KZ-4KfOyzHv5",
        "colab_type": "code",
        "colab": {
          "base_uri": "https://localhost:8080/",
          "height": 730
        },
        "outputId": "afe8c128-dbc3-4239-f335-ddb95833da2a"
      },
      "source": [
        "test['Predictions'] = true_preds\n",
        "test"
      ],
      "execution_count": 68,
      "outputs": [
        {
          "output_type": "stream",
          "text": [
            "/usr/local/lib/python3.6/dist-packages/ipykernel_launcher.py:1: SettingWithCopyWarning: \n",
            "A value is trying to be set on a copy of a slice from a DataFrame.\n",
            "Try using .loc[row_indexer,col_indexer] = value instead\n",
            "\n",
            "See the caveats in the documentation: https://pandas.pydata.org/pandas-docs/stable/user_guide/indexing.html#returning-a-view-versus-a-copy\n",
            "  \"\"\"Entry point for launching an IPython kernel.\n"
          ],
          "name": "stderr"
        },
        {
          "output_type": "execute_result",
          "data": {
            "text/html": [
              "<div>\n",
              "<style scoped>\n",
              "    .dataframe tbody tr th:only-of-type {\n",
              "        vertical-align: middle;\n",
              "    }\n",
              "\n",
              "    .dataframe tbody tr th {\n",
              "        vertical-align: top;\n",
              "    }\n",
              "\n",
              "    .dataframe thead th {\n",
              "        text-align: right;\n",
              "    }\n",
              "</style>\n",
              "<table border=\"1\" class=\"dataframe\">\n",
              "  <thead>\n",
              "    <tr style=\"text-align: right;\">\n",
              "      <th></th>\n",
              "      <th>sales</th>\n",
              "      <th>Predictions</th>\n",
              "    </tr>\n",
              "    <tr>\n",
              "      <th>DATE</th>\n",
              "      <th></th>\n",
              "      <th></th>\n",
              "    </tr>\n",
              "  </thead>\n",
              "  <tbody>\n",
              "    <tr>\n",
              "      <th>2018-05-01</th>\n",
              "      <td>23764</td>\n",
              "      <td>22658.004085</td>\n",
              "    </tr>\n",
              "    <tr>\n",
              "      <th>2018-06-01</th>\n",
              "      <td>21589</td>\n",
              "      <td>21550.518711</td>\n",
              "    </tr>\n",
              "    <tr>\n",
              "      <th>2018-07-01</th>\n",
              "      <td>21919</td>\n",
              "      <td>21817.096280</td>\n",
              "    </tr>\n",
              "    <tr>\n",
              "      <th>2018-08-01</th>\n",
              "      <td>23381</td>\n",
              "      <td>23741.357371</td>\n",
              "    </tr>\n",
              "    <tr>\n",
              "      <th>2018-09-01</th>\n",
              "      <td>20260</td>\n",
              "      <td>21247.351452</td>\n",
              "    </tr>\n",
              "    <tr>\n",
              "      <th>2018-10-01</th>\n",
              "      <td>21473</td>\n",
              "      <td>21880.897981</td>\n",
              "    </tr>\n",
              "    <tr>\n",
              "      <th>2018-11-01</th>\n",
              "      <td>25831</td>\n",
              "      <td>25941.951313</td>\n",
              "    </tr>\n",
              "    <tr>\n",
              "      <th>2018-12-01</th>\n",
              "      <td>34706</td>\n",
              "      <td>37837.809923</td>\n",
              "    </tr>\n",
              "    <tr>\n",
              "      <th>2019-01-01</th>\n",
              "      <td>16410</td>\n",
              "      <td>17472.772883</td>\n",
              "    </tr>\n",
              "    <tr>\n",
              "      <th>2019-02-01</th>\n",
              "      <td>18134</td>\n",
              "      <td>19704.293296</td>\n",
              "    </tr>\n",
              "    <tr>\n",
              "      <th>2019-03-01</th>\n",
              "      <td>22093</td>\n",
              "      <td>23288.416513</td>\n",
              "    </tr>\n",
              "    <tr>\n",
              "      <th>2019-04-01</th>\n",
              "      <td>21597</td>\n",
              "      <td>21739.379102</td>\n",
              "    </tr>\n",
              "    <tr>\n",
              "      <th>2019-05-01</th>\n",
              "      <td>23200</td>\n",
              "      <td>23777.684381</td>\n",
              "    </tr>\n",
              "    <tr>\n",
              "      <th>2019-06-01</th>\n",
              "      <td>21123</td>\n",
              "      <td>22803.170933</td>\n",
              "    </tr>\n",
              "    <tr>\n",
              "      <th>2019-07-01</th>\n",
              "      <td>21714</td>\n",
              "      <td>23149.987408</td>\n",
              "    </tr>\n",
              "    <tr>\n",
              "      <th>2019-08-01</th>\n",
              "      <td>23791</td>\n",
              "      <td>25112.977390</td>\n",
              "    </tr>\n",
              "    <tr>\n",
              "      <th>2019-09-01</th>\n",
              "      <td>19695</td>\n",
              "      <td>22793.284313</td>\n",
              "    </tr>\n",
              "    <tr>\n",
              "      <th>2019-10-01</th>\n",
              "      <td>21113</td>\n",
              "      <td>23550.760008</td>\n",
              "    </tr>\n",
              "  </tbody>\n",
              "</table>\n",
              "</div>"
            ],
            "text/plain": [
              "            sales   Predictions\n",
              "DATE                           \n",
              "2018-05-01  23764  22658.004085\n",
              "2018-06-01  21589  21550.518711\n",
              "2018-07-01  21919  21817.096280\n",
              "2018-08-01  23381  23741.357371\n",
              "2018-09-01  20260  21247.351452\n",
              "2018-10-01  21473  21880.897981\n",
              "2018-11-01  25831  25941.951313\n",
              "2018-12-01  34706  37837.809923\n",
              "2019-01-01  16410  17472.772883\n",
              "2019-02-01  18134  19704.293296\n",
              "2019-03-01  22093  23288.416513\n",
              "2019-04-01  21597  21739.379102\n",
              "2019-05-01  23200  23777.684381\n",
              "2019-06-01  21123  22803.170933\n",
              "2019-07-01  21714  23149.987408\n",
              "2019-08-01  23791  25112.977390\n",
              "2019-09-01  19695  22793.284313\n",
              "2019-10-01  21113  23550.760008"
            ]
          },
          "metadata": {
            "tags": []
          },
          "execution_count": 68
        }
      ]
    },
    {
      "cell_type": "code",
      "metadata": {
        "id": "A7E4RZMizR0K",
        "colab_type": "code",
        "colab": {
          "base_uri": "https://localhost:8080/",
          "height": 508
        },
        "outputId": "e258c277-f06e-438b-fea8-ca5765b3f513"
      },
      "source": [
        "test.plot(figsize=(12,8));"
      ],
      "execution_count": 70,
      "outputs": [
        {
          "output_type": "display_data",
          "data": {
            "image/png": "[encoded data removed]",
            "text/plain": [
              "<Figure size 864x576 with 1 Axes>"
            ]
          },
          "metadata": {
            "tags": [],
            "needs_background": "light"
          }
        }
      ]
    },
    {
      "cell_type": "markdown",
      "metadata": {
        "id": "MfgpcXn80Ruf",
        "colab_type": "text"
      },
      "source": [
        "## Forecasting Values of Future"
      ]
    },
    {
      "cell_type": "markdown",
      "metadata": {
        "id": "Led5lceb1BQu",
        "colab_type": "text"
      },
      "source": [
        "### Normalizing Full Data"
      ]
    },
    {
      "cell_type": "code",
      "metadata": {
        "id": "vlr23tAZzcHG",
        "colab_type": "code",
        "colab": {}
      },
      "source": [
        "full_scaler = MinMaxScaler()\n",
        "scaled_full_data = full_scaler.fit_transform(df)"
      ],
      "execution_count": 0,
      "outputs": []
    },
    {
      "cell_type": "code",
      "metadata": {
        "id": "eilGOZO_0sks",
        "colab_type": "code",
        "colab": {
          "base_uri": "https://localhost:8080/",
          "height": 101
        },
        "outputId": "8c0cab56-d6ac-4af6-86ef-f68b42359435"
      },
      "source": [
        "scaled_full_data[:5]"
      ],
      "execution_count": 77,
      "outputs": [
        {
          "output_type": "execute_result",
          "data": {
            "text/plain": [
              "array([[0.        ],\n",
              "       [0.02110343],\n",
              "       [0.05535148],\n",
              "       [0.08869922],\n",
              "       [0.09435321]])"
            ]
          },
          "metadata": {
            "tags": []
          },
          "execution_count": 77
        }
      ]
    },
    {
      "cell_type": "markdown",
      "metadata": {
        "id": "cAzfhddp0tvk",
        "colab_type": "text"
      },
      "source": [
        "### Genearator "
      ]
    },
    {
      "cell_type": "code",
      "metadata": {
        "id": "TkLv-oaS1HpK",
        "colab_type": "code",
        "colab": {}
      },
      "source": [
        "length = 12\n",
        "generator = TimeseriesGenerator(scaled_full_data,\n",
        "                                scaled_full_data,\n",
        "                                length=length,\n",
        "                                batch_size=1,\n",
        "                                )"
      ],
      "execution_count": 0,
      "outputs": []
    },
    {
      "cell_type": "markdown",
      "metadata": {
        "id": "z1UG2vib1lGF",
        "colab_type": "text"
      },
      "source": [
        "### Modelling"
      ]
    },
    {
      "cell_type": "code",
      "metadata": {
        "id": "ZmcHUQ7O1olT",
        "colab_type": "code",
        "colab": {
          "base_uri": "https://localhost:8080/",
          "height": 235
        },
        "outputId": "7163f8cd-b53d-460d-b997-b2177f8f557e"
      },
      "source": [
        "model = Sequential()\n",
        "\n",
        "model.add(LSTM(100, activation='relu',\n",
        "          input_shape=(length, n_features)))\n",
        "\n",
        "model.add(Dense(1))\n",
        "\n",
        "model.compile(optimizer='adam',\n",
        "              loss='mse')\n",
        "\n",
        "model.fit_generator(generator,\n",
        "                    epochs=6)"
      ],
      "execution_count": 81,
      "outputs": [
        {
          "output_type": "stream",
          "text": [
            "Epoch 1/6\n",
            "322/322 [==============================] - 2s 5ms/step - loss: 0.0261\n",
            "Epoch 2/6\n",
            "322/322 [==============================] - 2s 5ms/step - loss: 0.0175\n",
            "Epoch 3/6\n",
            "322/322 [==============================] - 2s 5ms/step - loss: 0.0093\n",
            "Epoch 4/6\n",
            "322/322 [==============================] - 2s 5ms/step - loss: 0.0055\n",
            "Epoch 5/6\n",
            "322/322 [==============================] - 2s 5ms/step - loss: 0.0021\n",
            "Epoch 6/6\n",
            "322/322 [==============================] - 2s 5ms/step - loss: 0.0024\n"
          ],
          "name": "stdout"
        },
        {
          "output_type": "execute_result",
          "data": {
            "text/plain": [
              "<tensorflow.python.keras.callbacks.History at 0x7fe75995add8>"
            ]
          },
          "metadata": {
            "tags": []
          },
          "execution_count": 81
        }
      ]
    },
    {
      "cell_type": "code",
      "metadata": {
        "id": "5MGDR4TV2-wn",
        "colab_type": "code",
        "colab": {
          "base_uri": "https://localhost:8080/",
          "height": 225
        },
        "outputId": "81ca592a-2a72-4093-fdf4-105bb697225d"
      },
      "source": [
        "losses = pd.DataFrame(model.history.history)\n",
        "losses"
      ],
      "execution_count": 82,
      "outputs": [
        {
          "output_type": "execute_result",
          "data": {
            "text/html": [
              "<div>\n",
              "<style scoped>\n",
              "    .dataframe tbody tr th:only-of-type {\n",
              "        vertical-align: middle;\n",
              "    }\n",
              "\n",
              "    .dataframe tbody tr th {\n",
              "        vertical-align: top;\n",
              "    }\n",
              "\n",
              "    .dataframe thead th {\n",
              "        text-align: right;\n",
              "    }\n",
              "</style>\n",
              "<table border=\"1\" class=\"dataframe\">\n",
              "  <thead>\n",
              "    <tr style=\"text-align: right;\">\n",
              "      <th></th>\n",
              "      <th>loss</th>\n",
              "    </tr>\n",
              "  </thead>\n",
              "  <tbody>\n",
              "    <tr>\n",
              "      <th>0</th>\n",
              "      <td>0.026075</td>\n",
              "    </tr>\n",
              "    <tr>\n",
              "      <th>1</th>\n",
              "      <td>0.017532</td>\n",
              "    </tr>\n",
              "    <tr>\n",
              "      <th>2</th>\n",
              "      <td>0.009279</td>\n",
              "    </tr>\n",
              "    <tr>\n",
              "      <th>3</th>\n",
              "      <td>0.005525</td>\n",
              "    </tr>\n",
              "    <tr>\n",
              "      <th>4</th>\n",
              "      <td>0.002130</td>\n",
              "    </tr>\n",
              "    <tr>\n",
              "      <th>5</th>\n",
              "      <td>0.002365</td>\n",
              "    </tr>\n",
              "  </tbody>\n",
              "</table>\n",
              "</div>"
            ],
            "text/plain": [
              "       loss\n",
              "0  0.026075\n",
              "1  0.017532\n",
              "2  0.009279\n",
              "3  0.005525\n",
              "4  0.002130\n",
              "5  0.002365"
            ]
          },
          "metadata": {
            "tags": []
          },
          "execution_count": 82
        }
      ]
    },
    {
      "cell_type": "markdown",
      "metadata": {
        "id": "LE1uGt5w3SVU",
        "colab_type": "text"
      },
      "source": [
        "### Evaluating"
      ]
    },
    {
      "cell_type": "code",
      "metadata": {
        "id": "dTo8hX1E3YoL",
        "colab_type": "code",
        "colab": {}
      },
      "source": [
        "forecast = []\n",
        "\n",
        "periods = 12\n",
        "\n",
        "# grabbing last 12 months from training set to predict 1 month in future\n",
        "first_eval_batch = scaled_full_data[-length:]\n",
        "\n",
        "# reshaping into correct format that is required by the RNN\n",
        "current_batch = first_eval_batch.reshape((1, length, n_features))\n",
        "\n",
        "for i in range(periods):\n",
        "  current_pred = model.predict(current_batch)[0]\n",
        "\n",
        "  forecast.append(current_pred)\n",
        "\n",
        "  current_batch = np.append(current_batch[:,1:,:], [[current_pred]], axis=1)"
      ],
      "execution_count": 0,
      "outputs": []
    },
    {
      "cell_type": "code",
      "metadata": {
        "id": "uAbSHxTG3gYD",
        "colab_type": "code",
        "colab": {
          "base_uri": "https://localhost:8080/",
          "height": 218
        },
        "outputId": "f4698174-5a72-44be-dd0f-5f59dc05b8fd"
      },
      "source": [
        "forecast"
      ],
      "execution_count": 87,
      "outputs": [
        {
          "output_type": "execute_result",
          "data": {
            "text/plain": [
              "[array([0.7561412], dtype=float32),\n",
              " array([1.0995568], dtype=float32),\n",
              " array([0.47081503], dtype=float32),\n",
              " array([0.5232146], dtype=float32),\n",
              " array([0.64425087], dtype=float32),\n",
              " array([0.6329431], dtype=float32),\n",
              " array([0.68383133], dtype=float32),\n",
              " array([0.62396294], dtype=float32),\n",
              " array([0.6448608], dtype=float32),\n",
              " array([0.71208394], dtype=float32),\n",
              " array([0.5974145], dtype=float32),\n",
              " array([0.64711654], dtype=float32)]"
            ]
          },
          "metadata": {
            "tags": []
          },
          "execution_count": 87
        }
      ]
    },
    {
      "cell_type": "code",
      "metadata": {
        "id": "WalGIK313k0S",
        "colab_type": "code",
        "colab": {
          "base_uri": "https://localhost:8080/",
          "height": 218
        },
        "outputId": "ae4d2ce6-c8fe-4f8c-a82d-41ea48165905"
      },
      "source": [
        "forecast = scaler.inverse_transform(forecast)\n",
        "forecast"
      ],
      "execution_count": 88,
      "outputs": [
        {
          "output_type": "execute_result",
          "data": {
            "text/plain": [
              "array([[27765.15282059],\n",
              "       [37224.1926012 ],\n",
              "       [19906.12926126],\n",
              "       [21349.42235374],\n",
              "       [24683.24595642],\n",
              "       [24371.78457499],\n",
              "       [25773.45026684],\n",
              "       [24124.43518591],\n",
              "       [24700.04598761],\n",
              "       [26551.63992596],\n",
              "       [23393.18481064],\n",
              "       [24762.17802906]])"
            ]
          },
          "metadata": {
            "tags": []
          },
          "execution_count": 88
        }
      ]
    },
    {
      "cell_type": "code",
      "metadata": {
        "id": "AlIqlc_o4NcM",
        "colab_type": "code",
        "colab": {
          "base_uri": "https://localhost:8080/",
          "height": 610
        },
        "outputId": "1e111675-8d3b-4067-d350-e7383184d632"
      },
      "source": [
        "test"
      ],
      "execution_count": 89,
      "outputs": [
        {
          "output_type": "execute_result",
          "data": {
            "text/html": [
              "<div>\n",
              "<style scoped>\n",
              "    .dataframe tbody tr th:only-of-type {\n",
              "        vertical-align: middle;\n",
              "    }\n",
              "\n",
              "    .dataframe tbody tr th {\n",
              "        vertical-align: top;\n",
              "    }\n",
              "\n",
              "    .dataframe thead th {\n",
              "        text-align: right;\n",
              "    }\n",
              "</style>\n",
              "<table border=\"1\" class=\"dataframe\">\n",
              "  <thead>\n",
              "    <tr style=\"text-align: right;\">\n",
              "      <th></th>\n",
              "      <th>sales</th>\n",
              "      <th>Predictions</th>\n",
              "    </tr>\n",
              "    <tr>\n",
              "      <th>DATE</th>\n",
              "      <th></th>\n",
              "      <th></th>\n",
              "    </tr>\n",
              "  </thead>\n",
              "  <tbody>\n",
              "    <tr>\n",
              "      <th>2018-05-01</th>\n",
              "      <td>23764</td>\n",
              "      <td>22658.004085</td>\n",
              "    </tr>\n",
              "    <tr>\n",
              "      <th>2018-06-01</th>\n",
              "      <td>21589</td>\n",
              "      <td>21550.518711</td>\n",
              "    </tr>\n",
              "    <tr>\n",
              "      <th>2018-07-01</th>\n",
              "      <td>21919</td>\n",
              "      <td>21817.096280</td>\n",
              "    </tr>\n",
              "    <tr>\n",
              "      <th>2018-08-01</th>\n",
              "      <td>23381</td>\n",
              "      <td>23741.357371</td>\n",
              "    </tr>\n",
              "    <tr>\n",
              "      <th>2018-09-01</th>\n",
              "      <td>20260</td>\n",
              "      <td>21247.351452</td>\n",
              "    </tr>\n",
              "    <tr>\n",
              "      <th>2018-10-01</th>\n",
              "      <td>21473</td>\n",
              "      <td>21880.897981</td>\n",
              "    </tr>\n",
              "    <tr>\n",
              "      <th>2018-11-01</th>\n",
              "      <td>25831</td>\n",
              "      <td>25941.951313</td>\n",
              "    </tr>\n",
              "    <tr>\n",
              "      <th>2018-12-01</th>\n",
              "      <td>34706</td>\n",
              "      <td>37837.809923</td>\n",
              "    </tr>\n",
              "    <tr>\n",
              "      <th>2019-01-01</th>\n",
              "      <td>16410</td>\n",
              "      <td>17472.772883</td>\n",
              "    </tr>\n",
              "    <tr>\n",
              "      <th>2019-02-01</th>\n",
              "      <td>18134</td>\n",
              "      <td>19704.293296</td>\n",
              "    </tr>\n",
              "    <tr>\n",
              "      <th>2019-03-01</th>\n",
              "      <td>22093</td>\n",
              "      <td>23288.416513</td>\n",
              "    </tr>\n",
              "    <tr>\n",
              "      <th>2019-04-01</th>\n",
              "      <td>21597</td>\n",
              "      <td>21739.379102</td>\n",
              "    </tr>\n",
              "    <tr>\n",
              "      <th>2019-05-01</th>\n",
              "      <td>23200</td>\n",
              "      <td>23777.684381</td>\n",
              "    </tr>\n",
              "    <tr>\n",
              "      <th>2019-06-01</th>\n",
              "      <td>21123</td>\n",
              "      <td>22803.170933</td>\n",
              "    </tr>\n",
              "    <tr>\n",
              "      <th>2019-07-01</th>\n",
              "      <td>21714</td>\n",
              "      <td>23149.987408</td>\n",
              "    </tr>\n",
              "    <tr>\n",
              "      <th>2019-08-01</th>\n",
              "      <td>23791</td>\n",
              "      <td>25112.977390</td>\n",
              "    </tr>\n",
              "    <tr>\n",
              "      <th>2019-09-01</th>\n",
              "      <td>19695</td>\n",
              "      <td>22793.284313</td>\n",
              "    </tr>\n",
              "    <tr>\n",
              "      <th>2019-10-01</th>\n",
              "      <td>21113</td>\n",
              "      <td>23550.760008</td>\n",
              "    </tr>\n",
              "  </tbody>\n",
              "</table>\n",
              "</div>"
            ],
            "text/plain": [
              "            sales   Predictions\n",
              "DATE                           \n",
              "2018-05-01  23764  22658.004085\n",
              "2018-06-01  21589  21550.518711\n",
              "2018-07-01  21919  21817.096280\n",
              "2018-08-01  23381  23741.357371\n",
              "2018-09-01  20260  21247.351452\n",
              "2018-10-01  21473  21880.897981\n",
              "2018-11-01  25831  25941.951313\n",
              "2018-12-01  34706  37837.809923\n",
              "2019-01-01  16410  17472.772883\n",
              "2019-02-01  18134  19704.293296\n",
              "2019-03-01  22093  23288.416513\n",
              "2019-04-01  21597  21739.379102\n",
              "2019-05-01  23200  23777.684381\n",
              "2019-06-01  21123  22803.170933\n",
              "2019-07-01  21714  23149.987408\n",
              "2019-08-01  23791  25112.977390\n",
              "2019-09-01  19695  22793.284313\n",
              "2019-10-01  21113  23550.760008"
            ]
          },
          "metadata": {
            "tags": []
          },
          "execution_count": 89
        }
      ]
    },
    {
      "cell_type": "code",
      "metadata": {
        "id": "WyJqPoQ54Ajl",
        "colab_type": "code",
        "colab": {
          "base_uri": "https://localhost:8080/",
          "height": 84
        },
        "outputId": "30e42a6d-d249-47d1-e348-179e0a65752f"
      },
      "source": [
        "forecast_index = pd.date_range(start='2019-11-01',\n",
        "                               periods=periods,\n",
        "                               freq='MS')\n",
        "\n",
        "forecast_index"
      ],
      "execution_count": 90,
      "outputs": [
        {
          "output_type": "execute_result",
          "data": {
            "text/plain": [
              "DatetimeIndex(['2019-11-01', '2019-12-01', '2020-01-01', '2020-02-01',\n",
              "               '2020-03-01', '2020-04-01', '2020-05-01', '2020-06-01',\n",
              "               '2020-07-01', '2020-08-01', '2020-09-01', '2020-10-01'],\n",
              "              dtype='datetime64[ns]', freq='MS')"
            ]
          },
          "metadata": {
            "tags": []
          },
          "execution_count": 90
        }
      ]
    },
    {
      "cell_type": "code",
      "metadata": {
        "id": "heaVONO24oKE",
        "colab_type": "code",
        "colab": {}
      },
      "source": [
        "forecast_df = pd.DataFrame(data=forecast, \n",
        "                           index=forecast_index,\n",
        "                           columns=['forecast'])"
      ],
      "execution_count": 0,
      "outputs": []
    },
    {
      "cell_type": "code",
      "metadata": {
        "id": "TyC6R3tr47ag",
        "colab_type": "code",
        "colab": {
          "base_uri": "https://localhost:8080/",
          "height": 402
        },
        "outputId": "01e9bc56-a4e1-46b3-a7f0-df336c9e1f12"
      },
      "source": [
        "forecast_df"
      ],
      "execution_count": 92,
      "outputs": [
        {
          "output_type": "execute_result",
          "data": {
            "text/html": [
              "<div>\n",
              "<style scoped>\n",
              "    .dataframe tbody tr th:only-of-type {\n",
              "        vertical-align: middle;\n",
              "    }\n",
              "\n",
              "    .dataframe tbody tr th {\n",
              "        vertical-align: top;\n",
              "    }\n",
              "\n",
              "    .dataframe thead th {\n",
              "        text-align: right;\n",
              "    }\n",
              "</style>\n",
              "<table border=\"1\" class=\"dataframe\">\n",
              "  <thead>\n",
              "    <tr style=\"text-align: right;\">\n",
              "      <th></th>\n",
              "      <th>forecast</th>\n",
              "    </tr>\n",
              "  </thead>\n",
              "  <tbody>\n",
              "    <tr>\n",
              "      <th>2019-11-01</th>\n",
              "      <td>27765.152821</td>\n",
              "    </tr>\n",
              "    <tr>\n",
              "      <th>2019-12-01</th>\n",
              "      <td>37224.192601</td>\n",
              "    </tr>\n",
              "    <tr>\n",
              "      <th>2020-01-01</th>\n",
              "      <td>19906.129261</td>\n",
              "    </tr>\n",
              "    <tr>\n",
              "      <th>2020-02-01</th>\n",
              "      <td>21349.422354</td>\n",
              "    </tr>\n",
              "    <tr>\n",
              "      <th>2020-03-01</th>\n",
              "      <td>24683.245956</td>\n",
              "    </tr>\n",
              "    <tr>\n",
              "      <th>2020-04-01</th>\n",
              "      <td>24371.784575</td>\n",
              "    </tr>\n",
              "    <tr>\n",
              "      <th>2020-05-01</th>\n",
              "      <td>25773.450267</td>\n",
              "    </tr>\n",
              "    <tr>\n",
              "      <th>2020-06-01</th>\n",
              "      <td>24124.435186</td>\n",
              "    </tr>\n",
              "    <tr>\n",
              "      <th>2020-07-01</th>\n",
              "      <td>24700.045988</td>\n",
              "    </tr>\n",
              "    <tr>\n",
              "      <th>2020-08-01</th>\n",
              "      <td>26551.639926</td>\n",
              "    </tr>\n",
              "    <tr>\n",
              "      <th>2020-09-01</th>\n",
              "      <td>23393.184811</td>\n",
              "    </tr>\n",
              "    <tr>\n",
              "      <th>2020-10-01</th>\n",
              "      <td>24762.178029</td>\n",
              "    </tr>\n",
              "  </tbody>\n",
              "</table>\n",
              "</div>"
            ],
            "text/plain": [
              "                forecast\n",
              "2019-11-01  27765.152821\n",
              "2019-12-01  37224.192601\n",
              "2020-01-01  19906.129261\n",
              "2020-02-01  21349.422354\n",
              "2020-03-01  24683.245956\n",
              "2020-04-01  24371.784575\n",
              "2020-05-01  25773.450267\n",
              "2020-06-01  24124.435186\n",
              "2020-07-01  24700.045988\n",
              "2020-08-01  26551.639926\n",
              "2020-09-01  23393.184811\n",
              "2020-10-01  24762.178029"
            ]
          },
          "metadata": {
            "tags": []
          },
          "execution_count": 92
        }
      ]
    },
    {
      "cell_type": "code",
      "metadata": {
        "id": "Ldj4pvRV49UQ",
        "colab_type": "code",
        "colab": {
          "base_uri": "https://localhost:8080/",
          "height": 277
        },
        "outputId": "d65f65eb-fdd6-48d2-8800-bbfa641b9101"
      },
      "source": [
        "forecast_df.plot();"
      ],
      "execution_count": 94,
      "outputs": [
        {
          "output_type": "display_data",
          "data": {
            "image/png": "[encoded data removed]",
            "text/plain": [
              "<Figure size 432x288 with 1 Axes>"
            ]
          },
          "metadata": {
            "tags": [],
            "needs_background": "light"
          }
        }
      ]
    },
    {
      "cell_type": "code",
      "metadata": {
        "id": "xvpw7yen5Dqo",
        "colab_type": "code",
        "colab": {
          "base_uri": "https://localhost:8080/",
          "height": 497
        },
        "outputId": "eadc92ed-70cc-4042-de7e-19b65b6884b4"
      },
      "source": [
        "ax = df.plot()\n",
        "forecast_df.plot(ax=ax,\n",
        "                 figsize=(12,8));"
      ],
      "execution_count": 97,
      "outputs": [
        {
          "output_type": "display_data",
          "data": {
            "image/png": "[encoded data removed]",
            "text/plain": [
              "<Figure size 864x576 with 1 Axes>"
            ]
          },
          "metadata": {
            "tags": [],
            "needs_background": "light"
          }
        }
      ]
    },
    {
      "cell_type": "code",
      "metadata": {
        "id": "8rNimWX95RFS",
        "colab_type": "code",
        "colab": {
          "base_uri": "https://localhost:8080/",
          "height": 400
        },
        "outputId": "b6190adf-4530-4c64-ca9a-1c35f7b05f5e"
      },
      "source": [
        "ax = df.plot()\n",
        "forecast_df.plot(ax=ax,\n",
        "                 figsize=(10,6));\n",
        "plt.xlim('2018-01-01', '2020-12-01');"
      ],
      "execution_count": 101,
      "outputs": [
        {
          "output_type": "display_data",
          "data": {
            "image/png": "[encoded data removed]",
            "text/plain": [
              "<Figure size 720x432 with 1 Axes>"
            ]
          },
          "metadata": {
            "tags": [],
            "needs_background": "light"
          }
        }
      ]
    },
    {
      "cell_type": "code",
      "metadata": {
        "id": "CDSeT2f_50dl",
        "colab_type": "code",
        "colab": {}
      },
      "source": [
        ""
      ],
      "execution_count": 0,
      "outputs": []
    }
  ]
}